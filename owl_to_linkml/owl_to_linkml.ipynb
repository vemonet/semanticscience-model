{
 "cells": [
  {
   "cell_type": "markdown",
   "metadata": {},
   "source": [
    "# Generate LinkML YAML from an OWL ontology\n",
    "\n",
    "Using [OwlReady2](https://owlready2.readthedocs.io/en/latest/index.html) package. \n",
    "\n",
    "Optionally you can define the Notebook parameters for [papermill](https://papermill.readthedocs.io/en/latest/usage-parameterize.html)"
   ]
  },
  {
   "cell_type": "code",
   "execution_count": 1,
   "metadata": {
    "tags": [
     "parameters"
    ]
   },
   "outputs": [],
   "source": [
    "# Papermill parameters. Do not delete this cell.\n",
    "ontology_uri = 'https://raw.githubusercontent.com/MaastrichtU-IDS/semanticscience/master/ontology/sio/release/sio-subset-labels.owl'\n",
    "base_uri = 'http://semanticscience.org/resource/'\n",
    "# ontology_uri = 'https://raw.githubusercontent.com/MaastrichtU-IDS/semanticscience/master/ontology/sio/release/sio-subset-labels.owl'"
   ]
  },
  {
   "cell_type": "markdown",
   "metadata": {},
   "source": [
    "Import the library and define the local `ontologies` folder. If an URL is given, first searches for a local copy of the OWL file and, if not found, tries to download it from the Internet."
   ]
  },
  {
   "cell_type": "code",
   "execution_count": 2,
   "metadata": {},
   "outputs": [
    {
     "name": "stderr",
     "output_type": "stream",
     "text": [
      "* Owlready2 * Warning: optimized Cython parser module 'owlready2_optimized' is not available, defaulting to slower Python implementation\n"
     ]
    },
    {
     "data": {
      "text/plain": [
       "0"
      ]
     },
     "execution_count": 2,
     "metadata": {},
     "output_type": "execute_result"
    }
   ],
   "source": [
    "from owlready2 import *\n",
    "import types\n",
    "global onto \n",
    "# Download the ontology locally:\n",
    "import os\n",
    "os.system('wget -Nq ' + ontology_uri)"
   ]
  },
  {
   "cell_type": "markdown",
   "metadata": {},
   "source": [
    "### Analyze the ontology with `Owlready2`"
   ]
  },
  {
   "cell_type": "code",
   "execution_count": 3,
   "metadata": {},
   "outputs": [],
   "source": [
    "onto = get_ontology('sio-subset-labels.owl').load()\n",
    "# onto = get_ontology(ontology_uri).load()"
   ]
  },
  {
   "cell_type": "code",
   "execution_count": 4,
   "metadata": {},
   "outputs": [
    {
     "name": "stdout",
     "output_type": "stream",
     "text": [
      "1570 classes\n",
      "237 properties\n",
      "211 object properties\n",
      "1 data properties [resource.hasValue]\n",
      "25 annotation properties\n",
      "0 individuals\n",
      "http://semanticscience.org/ontology/sio.owl#\n",
      "sio-subset-labels.owl#\n",
      "http://semanticscience.org/ontology/sio.owl#\n",
      "http://semanticscience.org/resource/\n",
      "http://protege.stanford.edu/plugins/owl/protege#\n",
      "http://purl.org/dc/elements/1.1/\n",
      "http://purl.org/dc/terms/\n",
      "http://purl.org/spar/cito/\n",
      "http://purl.org/vocab/vann/\n",
      "http://schema.org/\n",
      "http://www.w3.org/2004/02/skos/core#\n",
      "http://xmlns.com/foaf/0.1/\n"
     ]
    }
   ],
   "source": [
    "# https://owlready2.readthedocs.io/en/latest/onto.html#accessing-the-content-of-an-ontology\n",
    "print(len(list(onto.classes())), 'classes')\n",
    "print(len(list(onto.properties())), 'properties')\n",
    "print(len(list(onto.object_properties())), 'object properties')\n",
    "print(len(list(onto.data_properties())), 'data properties', list(onto.data_properties()))\n",
    "print(len(list(onto.annotation_properties())), 'annotation properties')\n",
    "print(len(list(onto.individuals())), 'individuals')\n",
    "print(onto.base_iri)\n",
    "for key in onto._namespaces:\n",
    "    print(key)\n",
    "# print(onto.get_namespace())"
   ]
  },
  {
   "cell_type": "markdown",
   "metadata": {},
   "source": [
    "### Analyze the ontology with `RDFLib`"
   ]
  },
  {
   "cell_type": "code",
   "execution_count": 5,
   "metadata": {},
   "outputs": [],
   "source": [
    "import rdflib\n",
    "from rdflib import Graph, ConjunctiveGraph, Literal, RDF, URIRef, Namespace\n",
    "from rdflib.namespace import RDFS, XSD, DC, DCTERMS, VOID, OWL, SKOS\n",
    "\n",
    "g = rdflib.Graph()\n",
    "result = g.parse('sio-subset-labels.owl', format='xml')\n",
    "# result = g.parse(ontology_uri, format='xml')"
   ]
  },
  {
   "cell_type": "code",
   "execution_count": 6,
   "metadata": {},
   "outputs": [
    {
     "name": "stdout",
     "output_type": "stream",
     "text": [
      "1711 classes\n",
      "211 object properties\n",
      "25 annotation properties\n",
      "0 data properties\n",
      "0 individuals\n"
     ]
    }
   ],
   "source": [
    "print(len(list(g.subjects(RDF.type, OWL.Class))), 'classes')\n",
    "print(len(list(g.subjects(RDF.type, OWL.ObjectProperty))), 'object properties')\n",
    "print(len(list(g.subjects(RDF.type, OWL.AnnotationProperty))), 'annotation properties')\n",
    "print(len(list(g.subjects(RDF.type, OWL.DataProperty))), 'data properties')\n",
    "print(len(list(g.subjects(RDF.type, OWL.Individuals))), 'individuals')"
   ]
  },
  {
   "cell_type": "code",
   "execution_count": 7,
   "metadata": {},
   "outputs": [],
   "source": [
    "# Checkout the prefixes/namespaces\n",
    "linkml_prefixes = {\n",
    "    'linkml': 'https://w3id.org/linkml/'\n",
    "}\n",
    "for ns_prefix, namespace in g.namespaces():\n",
    "    if str(namespace) == 'http://schema.org/':\n",
    "        ns_prefix = 'schema'\n",
    "    if str(namespace) == 'http://www.w3.org/2004/02/skos/core#':\n",
    "        ns_prefix = 'skosvocab'\n",
    "    linkml_prefixes[ns_prefix] = str(namespace)"
   ]
  },
  {
   "cell_type": "code",
   "execution_count": 8,
   "metadata": {},
   "outputs": [],
   "source": [
    "## CLASSES\n",
    "linkml_classes = {}\n",
    "for owl_class in g.subjects(RDF.type, OWL.Class):\n",
    "    if not str(owl_class).startswith(base_uri):\n",
    "        # Avoid blank nodes\n",
    "        continue\n",
    "\n",
    "    linkml_id = str(owl_class).replace(base_uri, '')\n",
    "\n",
    "    linkml_classes[linkml_id] = {\n",
    "        'description': str(g.value(owl_class, DCTERMS.description)),\n",
    "    }\n",
    "\n",
    "    # Get 1 parent class (if many)\n",
    "    parent_class = None\n",
    "    parents = g.objects(owl_class, RDFS.subClassOf)\n",
    "    \n",
    "    if parents:\n",
    "        for parent in parents:\n",
    "            if not str(parent).startswith(base_uri):\n",
    "                # Avoid blank nodes\n",
    "                continue\n",
    "            if 'is_a' in linkml_classes[linkml_id].keys(): \n",
    "                if not 'see_also' in linkml_classes[linkml_id].keys(): \n",
    "                    linkml_classes[linkml_id]['see_also'] = []\n",
    "                linkml_classes[linkml_id]['see_also'].append(str(parent).replace(base_uri, ''))\n",
    "            else:\n",
    "                linkml_classes[linkml_id]['is_a'] = str(parent).replace(base_uri, '')\n",
    "            # TODO: currently we just take the first parent class we find\n",
    "            # break"
   ]
  },
  {
   "cell_type": "code",
   "execution_count": 9,
   "metadata": {},
   "outputs": [],
   "source": [
    "## SLOTS\n",
    "linkml_slots = {}\n",
    "for obj_prop in g.subjects(RDF.type, OWL.ObjectProperty):\n",
    "    if not str(obj_prop).startswith(base_uri):\n",
    "        # Avoid blank nodes\n",
    "        continue\n",
    "\n",
    "    prop_id = str(obj_prop).replace(base_uri, '')\n",
    "    if prop_id == 'isTransitivelyRelatedTo':\n",
    "        # Skip problematic properties\n",
    "        continue\n",
    "    linkml_slots[prop_id] = {}\n",
    "\n",
    "    description = g.value(obj_prop, DCTERMS.description)\n",
    "    if description:\n",
    "        linkml_slots[prop_id]['description'] = str(description)\n",
    "    domain = g.value(obj_prop, RDFS.domain)\n",
    "    if domain and str(domain).startswith(base_uri):\n",
    "        linkml_slots[prop_id]['domain'] = str(domain).replace(base_uri, '')\n",
    "    range = g.value(obj_prop, RDFS.range)\n",
    "    if range and str(range).startswith(base_uri):\n",
    "        linkml_slots[prop_id]['range'] = str(range).replace(base_uri, '')\n",
    "    comm = g.value(obj_prop, URIRef('http://schema.org/comment'))\n",
    "    if comm:\n",
    "        linkml_slots[prop_id]['notes'] = str(comm)\n",
    "    # TODO: owl:inverseOf, TransitiveProperty, ReflexiveProperty, SymmetricProperty\n",
    "    # example = str(g.value(obj_prop, SKOS.example))\n",
    "\n",
    "    # Add the property as slot to its domain class\n",
    "    domain = str(g.value(obj_prop, RDFS.domain))\n",
    "    if domain and str(domain).startswith(base_uri):\n",
    "        domain_cls = str(domain).replace(base_uri, '')\n",
    "        if 'slots' not in linkml_classes[domain_cls]:\n",
    "            linkml_classes[domain_cls]['slots'] = []\n",
    "        linkml_classes[domain_cls]['slots'].append(prop_id)\n",
    "\n",
    "\n",
    "    # Get only 1 parent class (if many)\n",
    "    parent_class = None\n",
    "    parents = g.objects(obj_prop, RDFS.subPropertyOf)\n",
    "    \n",
    "    if parents:\n",
    "        for parent in parents:\n",
    "            if not str(parent).startswith(base_uri):\n",
    "                # Avoid blank nodes\n",
    "                continue\n",
    "            if 'is_a' in linkml_slots[prop_id].keys(): \n",
    "                if not 'see_also' in linkml_slots[prop_id].keys(): \n",
    "                    linkml_slots[prop_id]['see_also'] = []\n",
    "                linkml_slots[prop_id]['see_also'].append(str(parent).replace(base_uri, ''))\n",
    "            else:\n",
    "                linkml_slots[prop_id]['is_a'] = str(parent).replace(base_uri, '')"
   ]
  },
  {
   "cell_type": "code",
   "execution_count": 10,
   "metadata": {},
   "outputs": [],
   "source": [
    "from collections import OrderedDict\n",
    "import yaml\n",
    "# from ruamel import yaml\n",
    "\n",
    "# Dump the generated model in a YAML file\n",
    "\n",
    "sio_linkml = OrderedDict(\n",
    "  id='https://semanticscience.org',\n",
    "  name='semanticscience-model',\n",
    "  description='The Semanticscience Integrated Ontology (SIO) provides a simple, integrated ontology of types and relations for rich description of objects, processes and their attributes.',\n",
    "  license='https://creativecommons.org/publicdomain/zero/1.0/',\n",
    "  # Version should be kept in sync with primary Git repository release tag\n",
    "  version='0.1.0',\n",
    "  default_prefix='sio',\n",
    "  default_range='string',\n",
    "  prefixes=linkml_prefixes,\n",
    "  slots=linkml_slots,\n",
    "  classes=linkml_classes,\n",
    ")\n",
    "\n",
    "# class quoted(str):\n",
    "#     pass\n",
    "# def quoted_presenter(dumper, data):\n",
    "#     return dumper.represent_scalar('tag:yaml.org,2002:str', data, style='\"')\n",
    "# yaml.add_representer(quoted, quoted_presenter)\n",
    "\n",
    "# class literal(str):\n",
    "#     pass\n",
    "# def literal_presenter(dumper, data):\n",
    "#     return dumper.represent_scalar('tag:yaml.org,2002:str', data, style='|')\n",
    "# yaml.add_representer(literal, literal_presenter)\n",
    "\n",
    "def ordered_dict_presenter(dumper, data):\n",
    "    return dumper.represent_dict(data.items())\n",
    "yaml.add_representer(OrderedDict, ordered_dict_presenter)\n",
    "\n",
    "def str_presenter(dumper, data):\n",
    "  if len(data.splitlines()) > 1 or len(data) > 80:\n",
    "    # check for multiline string\n",
    "    return dumper.represent_scalar('tag:yaml.org,2002:str', data + '\\n', style='|')\n",
    "  return dumper.represent_scalar('tag:yaml.org,2002:str', data)\n",
    "yaml.add_representer(str, str_presenter)\n",
    "yaml.representer.SafeRepresenter.add_representer(str, str_presenter)\n",
    "\n",
    "class MyDumper(yaml.Dumper):\n",
    "    # Insert blank lines between top-level objects\n",
    "    def write_line_break(self, data=None):\n",
    "        super().write_line_break(data)\n",
    "        if len(self.indents) == 1:\n",
    "            super().write_line_break()\n",
    "            super().write_line_break()\n",
    "            super().write_line_break()\n",
    "        if len(self.indents) == 2:\n",
    "            super().write_line_break()\n",
    "\n",
    "\n",
    "with open('sio-model.yaml', 'w') as yaml_file:\n",
    "    yaml.dump(\n",
    "        sio_linkml,\n",
    "        yaml_file,\n",
    "        Dumper=MyDumper,\n",
    "        default_flow_style=False,\n",
    "        sort_keys=False,\n",
    "        allow_unicode = True, encoding = None\n",
    "    )"
   ]
  }
 ],
 "metadata": {
  "kernelspec": {
   "display_name": "Python 3",
   "language": "python",
   "name": "python3"
  },
  "language_info": {
   "codemirror_mode": {
    "name": "ipython",
    "version": 3
   },
   "file_extension": ".py",
   "mimetype": "text/x-python",
   "name": "python",
   "nbconvert_exporter": "python",
   "pygments_lexer": "ipython3",
   "version": "3.9.7"
  }
 },
 "nbformat": 4,
 "nbformat_minor": 4
}
